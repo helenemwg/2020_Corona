{
 "cells": [
  {
   "cell_type": "code",
   "execution_count": null,
   "metadata": {},
   "outputs": [],
   "source": [
    "import pandas as pd\n",
    "import numpy as np\n",
    "import matplotlib.pyplot as plt\n",
    "from datetime import datetime"
   ]
  },
  {
   "cell_type": "markdown",
   "metadata": {},
   "source": [
    "## Raw Data from Wikipedia\n",
    "- Cases per country:\n",
    "https://en.m.wikipedia.org/wiki/Template:2019%E2%80%9320_coronavirus_outbreak_data/International_medical_cases\n",
    "\n",
    "\n",
    "- Cases in China:\n",
    "https://en.m.wikipedia.org/wiki/Template:2019%E2%80%9320_coronavirus_outbreak_data/China_medical_cases_by_province#Summary_table\n"
   ]
  },
  {
   "cell_type": "markdown",
   "metadata": {},
   "source": [
    "### Data"
   ]
  },
  {
   "cell_type": "code",
   "execution_count": 2,
   "metadata": {},
   "outputs": [
    {
     "ename": "NameError",
     "evalue": "name 'pd' is not defined",
     "output_type": "error",
     "traceback": [
      "\u001b[1;31m---------------------------------------------------------------------------\u001b[0m",
      "\u001b[1;31mNameError\u001b[0m                                 Traceback (most recent call last)",
      "\u001b[1;32m<ipython-input-2-e9715fb07b38>\u001b[0m in \u001b[0;36m<module>\u001b[1;34m\u001b[0m\n\u001b[0;32m      1\u001b[0m \u001b[0mlocation\u001b[0m \u001b[1;33m=\u001b[0m \u001b[0mlocation\u001b[0m \u001b[1;33m=\u001b[0m \u001b[1;34m\"C:/Users/Folder/\"\u001b[0m\u001b[1;33m\u001b[0m\u001b[1;33m\u001b[0m\u001b[0m\n\u001b[0;32m      2\u001b[0m \u001b[0mfile_in\u001b[0m \u001b[1;33m=\u001b[0m \u001b[1;34m\"new_cases_200311.csv\"\u001b[0m\u001b[1;33m\u001b[0m\u001b[1;33m\u001b[0m\u001b[0m\n\u001b[1;32m----> 3\u001b[1;33m \u001b[0mnew_cases\u001b[0m \u001b[1;33m=\u001b[0m \u001b[0mpd\u001b[0m\u001b[1;33m.\u001b[0m\u001b[0mread_csv\u001b[0m\u001b[1;33m(\u001b[0m\u001b[0mlocation\u001b[0m \u001b[1;33m+\u001b[0m \u001b[0mfile_in\u001b[0m\u001b[1;33m,\u001b[0m \u001b[0msep\u001b[0m\u001b[1;33m=\u001b[0m\u001b[1;34m';'\u001b[0m\u001b[1;33m,\u001b[0m \u001b[0mindex_col\u001b[0m\u001b[1;33m=\u001b[0m\u001b[1;36m0\u001b[0m\u001b[1;33m)\u001b[0m\u001b[1;33m\u001b[0m\u001b[1;33m\u001b[0m\u001b[0m\n\u001b[0m",
      "\u001b[1;31mNameError\u001b[0m: name 'pd' is not defined"
     ]
    }
   ],
   "source": [
    "location = location = \"C:/Users/Folder/\"\n",
    "file_in = \"new_cases_200312.csv\"\n",
    "new_cases = pd.read_csv(location + file_in, sep=';', index_col=0)"
   ]
  },
  {
   "cell_type": "code",
   "execution_count": 1,
   "metadata": {},
   "outputs": [
    {
     "ename": "NameError",
     "evalue": "name 'new_cases' is not defined",
     "output_type": "error",
     "traceback": [
      "\u001b[1;31m---------------------------------------------------------------------------\u001b[0m",
      "\u001b[1;31mNameError\u001b[0m                                 Traceback (most recent call last)",
      "\u001b[1;32m<ipython-input-1-02dabb0b5c73>\u001b[0m in \u001b[0;36m<module>\u001b[1;34m\u001b[0m\n\u001b[0;32m      1\u001b[0m \u001b[1;31m# Process Data\u001b[0m\u001b[1;33m\u001b[0m\u001b[1;33m\u001b[0m\u001b[1;33m\u001b[0m\u001b[0m\n\u001b[0;32m      2\u001b[0m \u001b[1;31m## New Cases - Data only\u001b[0m\u001b[1;33m\u001b[0m\u001b[1;33m\u001b[0m\u001b[1;33m\u001b[0m\u001b[0m\n\u001b[1;32m----> 3\u001b[1;33m \u001b[0mnew_cases_data\u001b[0m \u001b[1;33m=\u001b[0m \u001b[0mnew_cases\u001b[0m\u001b[1;33m.\u001b[0m\u001b[0miloc\u001b[0m\u001b[1;33m[\u001b[0m\u001b[1;33m:\u001b[0m\u001b[1;33m,\u001b[0m\u001b[1;33m:\u001b[0m\u001b[0mnew_cases\u001b[0m\u001b[1;33m.\u001b[0m\u001b[0mshape\u001b[0m\u001b[1;33m[\u001b[0m\u001b[1;36m1\u001b[0m\u001b[1;33m]\u001b[0m\u001b[1;33m-\u001b[0m\u001b[1;36m3\u001b[0m\u001b[1;33m]\u001b[0m\u001b[1;33m\u001b[0m\u001b[1;33m\u001b[0m\u001b[0m\n\u001b[0m\u001b[0;32m      4\u001b[0m \u001b[1;31m## New Cases per million inhabitants\u001b[0m\u001b[1;33m\u001b[0m\u001b[1;33m\u001b[0m\u001b[1;33m\u001b[0m\u001b[0m\n\u001b[0;32m      5\u001b[0m \u001b[0mnew_cases_ppm\u001b[0m \u001b[1;33m=\u001b[0m \u001b[0mnew_cases_data\u001b[0m\u001b[1;33m.\u001b[0m\u001b[0mdiv\u001b[0m\u001b[1;33m(\u001b[0m\u001b[0mnew_cases\u001b[0m\u001b[1;33m[\u001b[0m\u001b[1;34m'population'\u001b[0m\u001b[1;33m]\u001b[0m\u001b[1;33m/\u001b[0m\u001b[1;36m1000000\u001b[0m\u001b[1;33m,\u001b[0m\u001b[0maxis\u001b[0m\u001b[1;33m=\u001b[0m\u001b[1;36m0\u001b[0m\u001b[1;33m)\u001b[0m\u001b[1;33m\u001b[0m\u001b[1;33m\u001b[0m\u001b[0m\n",
      "\u001b[1;31mNameError\u001b[0m: name 'new_cases' is not defined"
     ]
    }
   ],
   "source": [
    "# Process Data\n",
    "## New Cases - Data only\n",
    "new_cases_data = new_cases.iloc[:,:new_cases.shape[1]-3]\n",
    "## New Cases per million inhabitants\n",
    "new_cases_ppm = new_cases_data.div(new_cases['population']/1000000,axis=0)\n",
    "new_cases_ppm.head()\n",
    "## Cases \n",
    "cases = new_cases_data.cumsum(axis=1)\n",
    "## Cases per million inhabitants\n",
    "cases_ppm = new_cases_ppm.cumsum(axis=1)"
   ]
  },
  {
   "cell_type": "markdown",
   "metadata": {},
   "source": [
    "### Plots"
   ]
  },
  {
   "cell_type": "code",
   "execution_count": 3,
   "metadata": {},
   "outputs": [],
   "source": [
    "#Function definitions\n",
    "## return sorted table by maximum in each row\n",
    "def sort_by_max_row(x):\n",
    "    x[\"max\"]=x.max(axis=1)\n",
    "    x.sort_values(by=[\"max\"], ascending = False, inplace=True)\n",
    "    x.drop(columns=[\"max\"], inplace=True)\n",
    "    return(x)"
   ]
  },
  {
   "cell_type": "markdown",
   "metadata": {},
   "source": [
    "#### All Data"
   ]
  },
  {
   "cell_type": "code",
   "execution_count": 4,
   "metadata": {},
   "outputs": [
    {
     "ename": "NameError",
     "evalue": "name 'cases' is not defined",
     "output_type": "error",
     "traceback": [
      "\u001b[1;31m---------------------------------------------------------------------------\u001b[0m",
      "\u001b[1;31mNameError\u001b[0m                                 Traceback (most recent call last)",
      "\u001b[1;32m<ipython-input-4-86dd2d1e1889>\u001b[0m in \u001b[0;36m<module>\u001b[1;34m\u001b[0m\n\u001b[0;32m      1\u001b[0m \u001b[1;31m# All countries\u001b[0m\u001b[1;33m\u001b[0m\u001b[1;33m\u001b[0m\u001b[1;33m\u001b[0m\u001b[0m\n\u001b[1;32m----> 2\u001b[1;33m \u001b[0mcases_select\u001b[0m \u001b[1;33m=\u001b[0m \u001b[0mcases\u001b[0m\u001b[1;33m[\u001b[0m\u001b[1;33m:\u001b[0m\u001b[1;33m]\u001b[0m\u001b[1;33m\u001b[0m\u001b[1;33m\u001b[0m\u001b[0m\n\u001b[0m\u001b[0;32m      3\u001b[0m \u001b[0msort_by_max_row\u001b[0m\u001b[1;33m(\u001b[0m\u001b[0mcases_select\u001b[0m\u001b[1;33m)\u001b[0m\u001b[1;33m\u001b[0m\u001b[1;33m\u001b[0m\u001b[0m\n\u001b[0;32m      4\u001b[0m \u001b[0mcases_select_plot\u001b[0m\u001b[1;33m=\u001b[0m \u001b[0mcases_select\u001b[0m\u001b[1;33m.\u001b[0m\u001b[0mtranspose\u001b[0m\u001b[1;33m(\u001b[0m\u001b[1;33m)\u001b[0m\u001b[1;33m\u001b[0m\u001b[1;33m\u001b[0m\u001b[0m\n\u001b[0;32m      5\u001b[0m \u001b[1;33m\u001b[0m\u001b[0m\n",
      "\u001b[1;31mNameError\u001b[0m: name 'cases' is not defined"
     ]
    }
   ],
   "source": [
    "# All countries\n",
    "cases_select = cases[:]\n",
    "sort_by_max_row(cases_select)\n",
    "cases_select_plot= cases_select.transpose()\n",
    "\n",
    "### Cases per Million inhabitants\n",
    "cases_select_ppm = cases_ppm[:]\n",
    "sort_by_max_row(cases_select_ppm)\n",
    "cases_select_ppm_plot= cases_select_ppm.transpose()"
   ]
  },
  {
   "cell_type": "code",
   "execution_count": 5,
   "metadata": {},
   "outputs": [
    {
     "ename": "NameError",
     "evalue": "name 'plt' is not defined",
     "output_type": "error",
     "traceback": [
      "\u001b[1;31m---------------------------------------------------------------------------\u001b[0m",
      "\u001b[1;31mNameError\u001b[0m                                 Traceback (most recent call last)",
      "\u001b[1;32m<ipython-input-5-37a1f55a2bb8>\u001b[0m in \u001b[0;36m<module>\u001b[1;34m\u001b[0m\n\u001b[0;32m      1\u001b[0m \u001b[1;31m# All cases\u001b[0m\u001b[1;33m\u001b[0m\u001b[1;33m\u001b[0m\u001b[1;33m\u001b[0m\u001b[0m\n\u001b[0;32m      2\u001b[0m \u001b[0mlog\u001b[0m \u001b[1;33m=\u001b[0m \u001b[1;32mTrue\u001b[0m \u001b[1;31m# logarithmic y-axis can be turned on(True) or off(False)\u001b[0m\u001b[1;33m\u001b[0m\u001b[1;33m\u001b[0m\u001b[0m\n\u001b[1;32m----> 3\u001b[1;33m \u001b[0mplt\u001b[0m\u001b[1;33m.\u001b[0m\u001b[0mfigure\u001b[0m\u001b[1;33m(\u001b[0m\u001b[0mfigsize\u001b[0m\u001b[1;33m=\u001b[0m\u001b[1;33m(\u001b[0m\u001b[1;36m40\u001b[0m\u001b[1;33m,\u001b[0m\u001b[1;36m40\u001b[0m\u001b[1;33m)\u001b[0m\u001b[1;33m)\u001b[0m\u001b[1;33m\u001b[0m\u001b[1;33m\u001b[0m\u001b[0m\n\u001b[0m\u001b[0;32m      4\u001b[0m \u001b[0mcases_select_plot\u001b[0m\u001b[1;33m.\u001b[0m\u001b[0mplot\u001b[0m\u001b[1;33m(\u001b[0m\u001b[0mfigsize\u001b[0m\u001b[1;33m=\u001b[0m\u001b[1;33m(\u001b[0m\u001b[1;36m20\u001b[0m\u001b[1;33m,\u001b[0m\u001b[1;36m20\u001b[0m\u001b[1;33m)\u001b[0m\u001b[1;33m,\u001b[0m\u001b[0mcolormap\u001b[0m\u001b[1;33m=\u001b[0m\u001b[1;34m'Spectral'\u001b[0m\u001b[1;33m)\u001b[0m\u001b[1;33m\u001b[0m\u001b[1;33m\u001b[0m\u001b[0m\n\u001b[0;32m      5\u001b[0m \u001b[0mplt\u001b[0m\u001b[1;33m.\u001b[0m\u001b[0mlegend\u001b[0m\u001b[1;33m(\u001b[0m\u001b[0mloc\u001b[0m\u001b[1;33m=\u001b[0m\u001b[1;34m'upper left'\u001b[0m\u001b[1;33m,\u001b[0m\u001b[0mfontsize\u001b[0m\u001b[1;33m=\u001b[0m\u001b[1;36m7\u001b[0m\u001b[1;33m)\u001b[0m\u001b[1;33m\u001b[0m\u001b[1;33m\u001b[0m\u001b[0m\n",
      "\u001b[1;31mNameError\u001b[0m: name 'plt' is not defined"
     ]
    }
   ],
   "source": [
    "# All cases\n",
    "log = True # logarithmic y-axis can be turned on(True) or off(False)\n",
    "plt.figure(figsize=(40,40))\n",
    "cases_select_plot.plot(figsize=(20,20),colormap='Spectral')\n",
    "plt.legend(loc='upper left',fontsize=7)\n",
    "plt.ylabel(\"Total Cases\", fontsize=15)\n",
    "plt.xlabel(\"Date\", fontsize=15)\n",
    "plt.title(\"Number of Covid-19 Cases\", fontsize=30)\n",
    "\n",
    "today = str(datetime.today().strftime('%y%m%d'))\n",
    "\n",
    "if log:\n",
    "    plt.yscale('log')\n",
    "    plot_name='Total_Cases_log_%s.png'%today\n",
    "else: \n",
    "    plot_name='Total_Cases_%s.png'%today\n",
    "\n",
    "plot_out = location + plot_name\n",
    "plt.savefig(plot_out)\n",
    "\n",
    "print('Plot(.png) and was exported as: \\n %s '%\n",
    "     (plot_out))"
   ]
  },
  {
   "cell_type": "code",
   "execution_count": 6,
   "metadata": {},
   "outputs": [
    {
     "ename": "NameError",
     "evalue": "name 'plt' is not defined",
     "output_type": "error",
     "traceback": [
      "\u001b[1;31m---------------------------------------------------------------------------\u001b[0m",
      "\u001b[1;31mNameError\u001b[0m                                 Traceback (most recent call last)",
      "\u001b[1;32m<ipython-input-6-1ff972eec6c6>\u001b[0m in \u001b[0;36m<module>\u001b[1;34m\u001b[0m\n\u001b[0;32m      1\u001b[0m \u001b[1;31m# per million\u001b[0m\u001b[1;33m\u001b[0m\u001b[1;33m\u001b[0m\u001b[1;33m\u001b[0m\u001b[0m\n\u001b[0;32m      2\u001b[0m \u001b[0mlog\u001b[0m \u001b[1;33m=\u001b[0m \u001b[1;32mTrue\u001b[0m \u001b[1;31m# logarithmic y-axis can be turned on(True) or off(False)\u001b[0m\u001b[1;33m\u001b[0m\u001b[1;33m\u001b[0m\u001b[0m\n\u001b[1;32m----> 3\u001b[1;33m \u001b[0mplt\u001b[0m\u001b[1;33m.\u001b[0m\u001b[0mfigure\u001b[0m\u001b[1;33m(\u001b[0m\u001b[0mfigsize\u001b[0m\u001b[1;33m=\u001b[0m\u001b[1;33m(\u001b[0m\u001b[1;36m20\u001b[0m\u001b[1;33m,\u001b[0m\u001b[1;36m20\u001b[0m\u001b[1;33m)\u001b[0m\u001b[1;33m)\u001b[0m\u001b[1;33m\u001b[0m\u001b[1;33m\u001b[0m\u001b[0m\n\u001b[0m\u001b[0;32m      4\u001b[0m \u001b[0mcases_select_ppm_plot\u001b[0m\u001b[1;33m.\u001b[0m\u001b[0mplot\u001b[0m\u001b[1;33m(\u001b[0m\u001b[0mfigsize\u001b[0m\u001b[1;33m=\u001b[0m\u001b[1;33m(\u001b[0m\u001b[1;36m20\u001b[0m\u001b[1;33m,\u001b[0m\u001b[1;36m20\u001b[0m\u001b[1;33m)\u001b[0m\u001b[1;33m,\u001b[0m \u001b[0mcolormap\u001b[0m\u001b[1;33m=\u001b[0m\u001b[1;34m'Spectral'\u001b[0m\u001b[1;33m)\u001b[0m\u001b[1;33m\u001b[0m\u001b[1;33m\u001b[0m\u001b[0m\n\u001b[0;32m      5\u001b[0m \u001b[0mplt\u001b[0m\u001b[1;33m.\u001b[0m\u001b[0mlegend\u001b[0m\u001b[1;33m(\u001b[0m\u001b[0mloc\u001b[0m\u001b[1;33m=\u001b[0m\u001b[1;34m'upper left'\u001b[0m\u001b[1;33m,\u001b[0m\u001b[0mfontsize\u001b[0m\u001b[1;33m=\u001b[0m\u001b[1;36m7\u001b[0m\u001b[1;33m)\u001b[0m\u001b[1;33m\u001b[0m\u001b[1;33m\u001b[0m\u001b[0m\n",
      "\u001b[1;31mNameError\u001b[0m: name 'plt' is not defined"
     ]
    }
   ],
   "source": [
    "# per million\n",
    "log = True # logarithmic y-axis can be turned on(True) or off(False)\n",
    "plt.figure(figsize=(20,20))\n",
    "cases_select_ppm_plot.plot(figsize=(20,20), colormap='Spectral')\n",
    "plt.legend(loc='upper left',fontsize=7)\n",
    "plt.ylabel(\"Cases per million inhabitants\", fontsize=15)\n",
    "plt.xlabel(\"Date\", fontsize=15)\n",
    "plt.title(\"Number of Covid-19 Cases\", fontsize=30)\n",
    "\n",
    "today = str(datetime.today().strftime('%y%m%d'))\n",
    "\n",
    "if log:\n",
    "    plt.yscale('log')\n",
    "    plot_name='Total_Cases_ppm_log_%s.png'%today\n",
    "else: \n",
    "    plot_name='Total_Cases_ppm_%s.png'%today\n",
    "\n",
    "plot_out = location + plot_name\n",
    "plt.savefig(plot_out)\n",
    "\n",
    "print('Plot(.png) and was exported as: \\n %s '%\n",
    "     (plot_out))"
   ]
  },
  {
   "cell_type": "markdown",
   "metadata": {},
   "source": [
    "#### Selected data\n",
    "In the next cells select what you want to see as Plot (in the next section).\n",
    "- Changes can be made to the selections (i.e. countries_select, regions_select, pop_treshold, inf_treshold)\n",
    "- \"chapters\" can be marked(#) and unmarked\n",
    "- slections can be combined with AND (&) or OR (|)\n",
    "- startdate for x-axis (start_select) can be changed. it is quantified in days after start data of epidemic in Wuhan (after 20-01-11)\n",
    "\n",
    "Run the code to select the data you want to see and then go to the next section."
   ]
  },
  {
   "cell_type": "code",
   "execution_count": 7,
   "metadata": {},
   "outputs": [
    {
     "ename": "NameError",
     "evalue": "name 'np' is not defined",
     "output_type": "error",
     "traceback": [
      "\u001b[1;31m---------------------------------------------------------------------------\u001b[0m",
      "\u001b[1;31mNameError\u001b[0m                                 Traceback (most recent call last)",
      "\u001b[1;32m<ipython-input-7-51df48838765>\u001b[0m in \u001b[0;36m<module>\u001b[1;34m\u001b[0m\n\u001b[0;32m      7\u001b[0m     \u001b[1;34m\"France\"\u001b[0m\u001b[1;33m,\u001b[0m\u001b[1;34m\"United Kingdom\"\u001b[0m\u001b[1;33m,\u001b[0m\u001b[1;34m\"Denmark\"\u001b[0m\u001b[1;33m,\u001b[0m\u001b[1;34m\"United States\"\u001b[0m\u001b[1;33m,\u001b[0m\u001b[1;34m\"Japan\"\u001b[0m\u001b[1;33m,\u001b[0m\u001b[1;33m\u001b[0m\u001b[1;33m\u001b[0m\u001b[0m\n\u001b[0;32m      8\u001b[0m     \"South Korea\",\"China\"] # change countries to be viewed\n\u001b[1;32m----> 9\u001b[1;33m \u001b[0mcondition_select\u001b[0m \u001b[1;33m=\u001b[0m \u001b[0mnp\u001b[0m\u001b[1;33m.\u001b[0m\u001b[0marray\u001b[0m\u001b[1;33m(\u001b[0m\u001b[0mnew_cases_data\u001b[0m\u001b[1;33m.\u001b[0m\u001b[0mindex\u001b[0m\u001b[1;33m.\u001b[0m\u001b[0misin\u001b[0m\u001b[1;33m(\u001b[0m\u001b[0mcountries_select\u001b[0m\u001b[1;33m)\u001b[0m\u001b[1;33m)\u001b[0m\u001b[1;33m\u001b[0m\u001b[1;33m\u001b[0m\u001b[0m\n\u001b[0m\u001b[0;32m     10\u001b[0m \u001b[1;33m\u001b[0m\u001b[0m\n\u001b[0;32m     11\u001b[0m \u001b[1;31m### Nordic\u001b[0m\u001b[1;33m\u001b[0m\u001b[1;33m\u001b[0m\u001b[1;33m\u001b[0m\u001b[0m\n",
      "\u001b[1;31mNameError\u001b[0m: name 'np' is not defined"
     ]
    }
   ],
   "source": [
    "## Individual countries\n",
    "\n",
    "###  Selected countries\n",
    "selection = \"Selected countries\"\n",
    "start_select = 10\n",
    "countries_select = [\"Italy\",\"Spain\",\"Switzerland\",\"Austria\",\"Germany\",\n",
    "    \"France\",\"United Kingdom\",\"Denmark\",\"United States\",\"Japan\",\n",
    "    \"South Korea\",\"China\"] # change countries to be viewed\n",
    "condition_select = np.array(new_cases_data.index.isin(countries_select))\n",
    "\n",
    "### Nordic\n",
    "#selection= \"Nordic\"\n",
    "#start_select = 40\n",
    "#countries_select = [\"Iceland\",\"Denmark\",\"Sweden\",\"Norway\",\"Finland\"]\n",
    "#condition_select = np.array(new_cases_data.index.isin(countries_select))\n"
   ]
  },
  {
   "cell_type": "code",
   "execution_count": 8,
   "metadata": {},
   "outputs": [
    {
     "ename": "NameError",
     "evalue": "name 'np' is not defined",
     "output_type": "error",
     "traceback": [
      "\u001b[1;31m---------------------------------------------------------------------------\u001b[0m",
      "\u001b[1;31mNameError\u001b[0m                                 Traceback (most recent call last)",
      "\u001b[1;32m<ipython-input-8-73cb698e12eb>\u001b[0m in \u001b[0;36m<module>\u001b[1;34m\u001b[0m\n\u001b[0;32m      5\u001b[0m \u001b[0mregions_select\u001b[0m \u001b[1;33m=\u001b[0m \u001b[1;33m[\u001b[0m\u001b[1;34m\"Western Europe\"\u001b[0m\u001b[1;33m]\u001b[0m \u001b[1;31m# change regions to be viewed\u001b[0m\u001b[1;33m\u001b[0m\u001b[1;33m\u001b[0m\u001b[0m\n\u001b[0;32m      6\u001b[0m \u001b[0mstart_select\u001b[0m \u001b[1;33m=\u001b[0m \u001b[1;36m40\u001b[0m\u001b[1;33m\u001b[0m\u001b[1;33m\u001b[0m\u001b[0m\n\u001b[1;32m----> 7\u001b[1;33m \u001b[0mcondition_select\u001b[0m \u001b[1;33m=\u001b[0m \u001b[0mnp\u001b[0m\u001b[1;33m.\u001b[0m\u001b[0marray\u001b[0m\u001b[1;33m(\u001b[0m\u001b[0mnew_cases\u001b[0m\u001b[1;33m[\u001b[0m\u001b[1;34m\"region\"\u001b[0m\u001b[1;33m]\u001b[0m\u001b[1;33m.\u001b[0m\u001b[0misin\u001b[0m\u001b[1;33m(\u001b[0m\u001b[0mregions_select\u001b[0m\u001b[1;33m)\u001b[0m\u001b[1;33m)\u001b[0m\u001b[1;33m\u001b[0m\u001b[1;33m\u001b[0m\u001b[0m\n\u001b[0m\u001b[0;32m      8\u001b[0m \u001b[1;33m\u001b[0m\u001b[0m\n\u001b[0;32m      9\u001b[0m \u001b[1;31m### Europe\u001b[0m\u001b[1;33m\u001b[0m\u001b[1;33m\u001b[0m\u001b[1;33m\u001b[0m\u001b[0m\n",
      "\u001b[1;31mNameError\u001b[0m: name 'np' is not defined"
     ]
    }
   ],
   "source": [
    "## Regions\n",
    "\n",
    "### Western Europe\n",
    "selection = \"Western Europe\"\n",
    "regions_select = [\"Western Europe\"] # change regions to be viewed\n",
    "start_select = 40\n",
    "condition_select = np.array(new_cases[\"region\"].isin(regions_select))\n",
    "\n",
    "### Europe\n",
    "#selection = \"Europe\"\n",
    "#regions_select = [\"Western Europe\",\"Southern Europe\",\"Northern Europe\",\n",
    "#                  \"Eastern Europe\"] # change regions to be viewed\n",
    "#condition_select = np.array(new_cases[\"region\"].isin(regions_select))\n"
   ]
  },
  {
   "cell_type": "code",
   "execution_count": 9,
   "metadata": {},
   "outputs": [
    {
     "ename": "NameError",
     "evalue": "name 'np' is not defined",
     "output_type": "error",
     "traceback": [
      "\u001b[1;31m---------------------------------------------------------------------------\u001b[0m",
      "\u001b[1;31mNameError\u001b[0m                                 Traceback (most recent call last)",
      "\u001b[1;32m<ipython-input-9-b0621f094aa4>\u001b[0m in \u001b[0;36m<module>\u001b[1;34m\u001b[0m\n\u001b[0;32m      4\u001b[0m \u001b[0mselection\u001b[0m \u001b[1;33m=\u001b[0m \u001b[1;34m\"Large Population\"\u001b[0m\u001b[1;33m\u001b[0m\u001b[1;33m\u001b[0m\u001b[0m\n\u001b[0;32m      5\u001b[0m \u001b[0mpop_treshold\u001b[0m \u001b[1;33m=\u001b[0m \u001b[1;36m1000000\u001b[0m  \u001b[1;31m# change population treshold\u001b[0m\u001b[1;33m\u001b[0m\u001b[1;33m\u001b[0m\u001b[0m\n\u001b[1;32m----> 6\u001b[1;33m \u001b[0mcondition_select\u001b[0m \u001b[1;33m=\u001b[0m \u001b[0mnp\u001b[0m\u001b[1;33m.\u001b[0m\u001b[0marray\u001b[0m\u001b[1;33m(\u001b[0m\u001b[0mnew_cases\u001b[0m\u001b[1;33m[\u001b[0m\u001b[1;34m\"population\"\u001b[0m\u001b[1;33m]\u001b[0m\u001b[1;33m>\u001b[0m\u001b[0mpop_treshold\u001b[0m\u001b[1;33m)\u001b[0m\u001b[1;33m\u001b[0m\u001b[1;33m\u001b[0m\u001b[0m\n\u001b[0m\u001b[0;32m      7\u001b[0m \u001b[1;33m\u001b[0m\u001b[0m\n\u001b[0;32m      8\u001b[0m \u001b[1;31m### High Number of Infections\u001b[0m\u001b[1;33m\u001b[0m\u001b[1;33m\u001b[0m\u001b[1;33m\u001b[0m\u001b[0m\n",
      "\u001b[1;31mNameError\u001b[0m: name 'np' is not defined"
     ]
    }
   ],
   "source": [
    "## Based on Numbers\n",
    "\n",
    "### Population\n",
    "selection = \"Large Population\"\n",
    "pop_treshold = 1000000  # change population treshold\n",
    "condition_select = np.array(new_cases[\"population\"]>pop_treshold)\n",
    "\n",
    "### High Number of Infections\n",
    "# selection = \"High Infection\"\n",
    "# inf_treshold = 50 # change infection treshold\n",
    "# condition_select = np.array(cases.max(axis=1)>inf_treshold)\n"
   ]
  },
  {
   "cell_type": "code",
   "execution_count": 10,
   "metadata": {},
   "outputs": [
    {
     "ename": "NameError",
     "evalue": "name 'np' is not defined",
     "output_type": "error",
     "traceback": [
      "\u001b[1;31m---------------------------------------------------------------------------\u001b[0m",
      "\u001b[1;31mNameError\u001b[0m                                 Traceback (most recent call last)",
      "\u001b[1;32m<ipython-input-10-99816afa2dd5>\u001b[0m in \u001b[0;36m<module>\u001b[1;34m\u001b[0m\n\u001b[0;32m      7\u001b[0m                     \"Japan\",\"South Korea\",\"China\"] # change countries to be viewed\n\u001b[0;32m      8\u001b[0m \u001b[0minf_treshold\u001b[0m \u001b[1;33m=\u001b[0m \u001b[1;36m50\u001b[0m\u001b[1;33m\u001b[0m\u001b[1;33m\u001b[0m\u001b[0m\n\u001b[1;32m----> 9\u001b[1;33m condition_select = (np.array(new_cases_data.index.isin(countries_select)) & \n\u001b[0m\u001b[0;32m     10\u001b[0m                    np.array(cases.max(axis=1)>inf_treshold))\n\u001b[0;32m     11\u001b[0m \u001b[1;33m\u001b[0m\u001b[0m\n",
      "\u001b[1;31mNameError\u001b[0m: name 'np' is not defined"
     ]
    }
   ],
   "source": [
    "## Combined criteria - AND\n",
    "\n",
    "### Individual countries & High Infection\n",
    "selection = \"Selected countries and High Infection\"\n",
    "countries_select = [\"Italy\",\"Spain\",\"Switzerland\",\"Austria\",\"Germany\",\n",
    "                    \"France\",\"United Kingdom\",\"Denmark\",\"United States\",\n",
    "                    \"Japan\",\"South Korea\",\"China\"] # change countries to be viewed\n",
    "inf_treshold = 50\n",
    "condition_select = (np.array(new_cases_data.index.isin(countries_select)) & \n",
    "                   np.array(cases.max(axis=1)>inf_treshold))\n",
    "\n",
    "### Large Population & High Infection\n",
    "# selection = \"Large Population and High Infection\"\n",
    "# pop_treshold = 1000000\n",
    "# inf_treshold = 50\n",
    "# condition_select = (np.array(new_cases[\"population\"]>pop_treshold) & \n",
    "#                    np.array(cases.max(axis=1)>inf_treshold))\n",
    "\n",
    "### Western Europe & High Infection\n",
    "selection= \"Western Europe and High Infection\"\n",
    "start_select = 40\n",
    "regions_select = [\"Western Europe\"]\n",
    "inf_treshold = 50\n",
    "condition_select = (np.array(new_cases[\"region\"].isin(regions_select)) & \n",
    "                   np.array(cases.max(axis=1)>inf_treshold))\n",
    "\n",
    "### Europe & High Infection\n",
    "selection = \"Europe and High Infection\"\n",
    "start_select = 40\n",
    "regions_select = [\"Western Europe\",\"Southern Europe\",\"Northern Europe\",\n",
    "                  \"Eastern Europe\"]\n",
    "inf_treshold = 50\n",
    "condition_select = (np.array(new_cases[\"region\"].isin(regions_select)) & \n",
    "                   np.array(cases.max(axis=1)>inf_treshold))\n"
   ]
  },
  {
   "cell_type": "code",
   "execution_count": 11,
   "metadata": {},
   "outputs": [
    {
     "ename": "NameError",
     "evalue": "name 'np' is not defined",
     "output_type": "error",
     "traceback": [
      "\u001b[1;31m---------------------------------------------------------------------------\u001b[0m",
      "\u001b[1;31mNameError\u001b[0m                                 Traceback (most recent call last)",
      "\u001b[1;32m<ipython-input-11-2e7810abb0c2>\u001b[0m in \u001b[0;36m<module>\u001b[1;34m\u001b[0m\n\u001b[0;32m      7\u001b[0m                     \"France\",\"United Kingdom\",\"Denmark\",\"United States\"]\n\u001b[0;32m      8\u001b[0m \u001b[0minf_treshold\u001b[0m \u001b[1;33m=\u001b[0m \u001b[1;36m250\u001b[0m\u001b[1;33m\u001b[0m\u001b[1;33m\u001b[0m\u001b[0m\n\u001b[1;32m----> 9\u001b[1;33m condition_select = (np.array(new_cases_data.index.isin(countries_select)) | \n\u001b[0m\u001b[0;32m     10\u001b[0m                    np.array(cases.max(axis=1)>inf_treshold))\n",
      "\u001b[1;31mNameError\u001b[0m: name 'np' is not defined"
     ]
    }
   ],
   "source": [
    "## Select by combined criteria - OR\n",
    "\n",
    "### Individual countries OR High Infection\n",
    "selection = \"Selected Countries or High Infection\"\n",
    "start_select = 10\n",
    "countries_select = [\"Italy\",\"Spain\",\"Switzerland\",\"Austria\",\"Germany\",\n",
    "                    \"France\",\"United Kingdom\",\"Denmark\",\"United States\"]\n",
    "inf_treshold = 250\n",
    "condition_select = (np.array(new_cases_data.index.isin(countries_select)) | \n",
    "                   np.array(cases.max(axis=1)>inf_treshold))"
   ]
  },
  {
   "cell_type": "markdown",
   "metadata": {},
   "source": [
    "##### Plots\n",
    "you can choose whether you want a logarithmic y axis (log = True) or not (log = False) \n"
   ]
  },
  {
   "cell_type": "code",
   "execution_count": 12,
   "metadata": {},
   "outputs": [
    {
     "ename": "NameError",
     "evalue": "name 'new_cases_data' is not defined",
     "output_type": "error",
     "traceback": [
      "\u001b[1;31m---------------------------------------------------------------------------\u001b[0m",
      "\u001b[1;31mNameError\u001b[0m                                 Traceback (most recent call last)",
      "\u001b[1;32m<ipython-input-12-08ed58597ce4>\u001b[0m in \u001b[0;36m<module>\u001b[1;34m\u001b[0m\n\u001b[0;32m      1\u001b[0m \u001b[1;31m# Select Data\u001b[0m\u001b[1;33m\u001b[0m\u001b[1;33m\u001b[0m\u001b[1;33m\u001b[0m\u001b[0m\n\u001b[1;32m----> 2\u001b[1;33m \u001b[0mnew_cases_select\u001b[0m \u001b[1;33m=\u001b[0m \u001b[0mnew_cases_data\u001b[0m\u001b[1;33m[\u001b[0m\u001b[0mcondition_select\u001b[0m\u001b[1;33m]\u001b[0m\u001b[1;33m.\u001b[0m\u001b[0miloc\u001b[0m\u001b[1;33m[\u001b[0m\u001b[1;33m:\u001b[0m\u001b[1;33m,\u001b[0m\u001b[0mstart_select\u001b[0m\u001b[1;33m:\u001b[0m\u001b[1;33m]\u001b[0m\u001b[1;33m\u001b[0m\u001b[1;33m\u001b[0m\u001b[0m\n\u001b[0m\u001b[0;32m      3\u001b[0m \u001b[0mcases_select\u001b[0m \u001b[1;33m=\u001b[0m \u001b[0mcases\u001b[0m\u001b[1;33m[\u001b[0m\u001b[0mcondition_select\u001b[0m\u001b[1;33m]\u001b[0m\u001b[1;33m.\u001b[0m\u001b[0miloc\u001b[0m\u001b[1;33m[\u001b[0m\u001b[1;33m:\u001b[0m\u001b[1;33m,\u001b[0m\u001b[0mstart_select\u001b[0m\u001b[1;33m:\u001b[0m\u001b[1;33m]\u001b[0m\u001b[1;33m\u001b[0m\u001b[1;33m\u001b[0m\u001b[0m\n\u001b[0;32m      4\u001b[0m \u001b[0msort_by_max_row\u001b[0m\u001b[1;33m(\u001b[0m\u001b[0mcases_select\u001b[0m\u001b[1;33m)\u001b[0m\u001b[1;33m\u001b[0m\u001b[1;33m\u001b[0m\u001b[0m\n\u001b[0;32m      5\u001b[0m \u001b[0mcases_select_plot\u001b[0m\u001b[1;33m=\u001b[0m \u001b[0mcases_select\u001b[0m\u001b[1;33m.\u001b[0m\u001b[0mtranspose\u001b[0m\u001b[1;33m(\u001b[0m\u001b[1;33m)\u001b[0m\u001b[1;33m\u001b[0m\u001b[1;33m\u001b[0m\u001b[0m\n",
      "\u001b[1;31mNameError\u001b[0m: name 'new_cases_data' is not defined"
     ]
    }
   ],
   "source": [
    "# Select Data\n",
    "new_cases_select = new_cases_data[condition_select].iloc[:,start_select:]\n",
    "cases_select = cases[condition_select].iloc[:,start_select:]\n",
    "sort_by_max_row(cases_select)\n",
    "cases_select_plot= cases_select.transpose()\n",
    "\n",
    "## per million\n",
    "new_cases_select_ppm = new_cases_ppm[condition_select].iloc[:,start_select:]\n",
    "cases_select_ppm = cases_ppm[condition_select].iloc[:,start_select:]\n",
    "sort_by_max_row(cases_select_ppm)\n",
    "cases_select_ppm_plot= cases_select_ppm.transpose()"
   ]
  },
  {
   "cell_type": "code",
   "execution_count": 13,
   "metadata": {},
   "outputs": [
    {
     "ename": "NameError",
     "evalue": "name 'plt' is not defined",
     "output_type": "error",
     "traceback": [
      "\u001b[1;31m---------------------------------------------------------------------------\u001b[0m",
      "\u001b[1;31mNameError\u001b[0m                                 Traceback (most recent call last)",
      "\u001b[1;32m<ipython-input-13-1b67e89e2390>\u001b[0m in \u001b[0;36m<module>\u001b[1;34m\u001b[0m\n\u001b[0;32m      1\u001b[0m \u001b[1;31m# all cases\u001b[0m\u001b[1;33m\u001b[0m\u001b[1;33m\u001b[0m\u001b[1;33m\u001b[0m\u001b[0m\n\u001b[0;32m      2\u001b[0m \u001b[0mlog\u001b[0m \u001b[1;33m=\u001b[0m \u001b[1;32mTrue\u001b[0m \u001b[1;31m# logarithmic y-axis can be turned on(True) or off(False)\u001b[0m\u001b[1;33m\u001b[0m\u001b[1;33m\u001b[0m\u001b[0m\n\u001b[1;32m----> 3\u001b[1;33m \u001b[0mplt\u001b[0m\u001b[1;33m.\u001b[0m\u001b[0mfigure\u001b[0m\u001b[1;33m(\u001b[0m\u001b[0mfigsize\u001b[0m\u001b[1;33m=\u001b[0m\u001b[1;33m(\u001b[0m\u001b[1;36m20\u001b[0m\u001b[1;33m,\u001b[0m\u001b[1;36m20\u001b[0m\u001b[1;33m)\u001b[0m\u001b[1;33m)\u001b[0m\u001b[1;33m\u001b[0m\u001b[1;33m\u001b[0m\u001b[0m\n\u001b[0m\u001b[0;32m      4\u001b[0m \u001b[0mcases_select_plot\u001b[0m\u001b[1;33m.\u001b[0m\u001b[0mplot\u001b[0m\u001b[1;33m(\u001b[0m\u001b[0mfigsize\u001b[0m\u001b[1;33m=\u001b[0m\u001b[1;33m(\u001b[0m\u001b[1;36m20\u001b[0m\u001b[1;33m,\u001b[0m\u001b[1;36m20\u001b[0m\u001b[1;33m)\u001b[0m\u001b[1;33m,\u001b[0m \u001b[0mcolormap\u001b[0m\u001b[1;33m=\u001b[0m\u001b[1;34m'Spectral'\u001b[0m\u001b[1;33m)\u001b[0m\u001b[1;33m\u001b[0m\u001b[1;33m\u001b[0m\u001b[0m\n\u001b[0;32m      5\u001b[0m \u001b[0mplt\u001b[0m\u001b[1;33m.\u001b[0m\u001b[0mlegend\u001b[0m\u001b[1;33m(\u001b[0m\u001b[0mloc\u001b[0m\u001b[1;33m=\u001b[0m\u001b[1;34m'upper left'\u001b[0m\u001b[1;33m,\u001b[0m\u001b[0mfontsize\u001b[0m\u001b[1;33m=\u001b[0m\u001b[1;36m15\u001b[0m\u001b[1;33m)\u001b[0m\u001b[1;33m\u001b[0m\u001b[1;33m\u001b[0m\u001b[0m\n",
      "\u001b[1;31mNameError\u001b[0m: name 'plt' is not defined"
     ]
    }
   ],
   "source": [
    "# all cases\n",
    "log = True # logarithmic y-axis can be turned on(True) or off(False)\n",
    "plt.figure(figsize=(20,20))\n",
    "cases_select_plot.plot(figsize=(20,20), colormap='Spectral')\n",
    "plt.legend(loc='upper left',fontsize=15)\n",
    "plt.ylabel(\"Total Cases\", fontsize=15)\n",
    "plt.xlabel(\"Date\", fontsize=15)\n",
    "plt.title(\"Number of Covid-19 Cases\", fontsize=30)\n",
    "\n",
    "today = str(datetime.today().strftime('%y%m%d'))\n",
    "\n",
    "if log:\n",
    "    plt.yscale('log')\n",
    "    plot_name='%s_Total_Cases_log_%s.png'%(selection, today)\n",
    "else: \n",
    "    plot_name='%s_Total_Cases_%s.png'%(selection, today)\n",
    "\n",
    "plot_out = location + plot_name\n",
    "plt.savefig(plot_out)\n",
    "\n",
    "print('Plot(.png) and was exported as: \\n %s '%\n",
    "     (plot_out))"
   ]
  },
  {
   "cell_type": "code",
   "execution_count": 18,
   "metadata": {},
   "outputs": [
    {
     "ename": "NameError",
     "evalue": "name 'plt' is not defined",
     "output_type": "error",
     "traceback": [
      "\u001b[1;31m---------------------------------------------------------------------------\u001b[0m",
      "\u001b[1;31mNameError\u001b[0m                                 Traceback (most recent call last)",
      "\u001b[1;32m<ipython-input-18-a07dee033aa4>\u001b[0m in \u001b[0;36m<module>\u001b[1;34m\u001b[0m\n\u001b[0;32m      1\u001b[0m \u001b[1;31m# per million\u001b[0m\u001b[1;33m\u001b[0m\u001b[1;33m\u001b[0m\u001b[1;33m\u001b[0m\u001b[0m\n\u001b[0;32m      2\u001b[0m \u001b[0mlog\u001b[0m \u001b[1;33m=\u001b[0m \u001b[1;32mTrue\u001b[0m \u001b[1;31m# logarithmic y-axis can be turned on(True) or off(False)\u001b[0m\u001b[1;33m\u001b[0m\u001b[1;33m\u001b[0m\u001b[0m\n\u001b[1;32m----> 3\u001b[1;33m \u001b[0mplt\u001b[0m\u001b[1;33m.\u001b[0m\u001b[0mfigure\u001b[0m\u001b[1;33m(\u001b[0m\u001b[0mfigsize\u001b[0m\u001b[1;33m=\u001b[0m\u001b[1;33m(\u001b[0m\u001b[1;36m20\u001b[0m\u001b[1;33m,\u001b[0m\u001b[1;36m20\u001b[0m\u001b[1;33m)\u001b[0m\u001b[1;33m)\u001b[0m\u001b[1;33m\u001b[0m\u001b[1;33m\u001b[0m\u001b[0m\n\u001b[0m\u001b[0;32m      4\u001b[0m \u001b[0mcases_select_ppm\u001b[0m\u001b[1;33m\u001b[0m\u001b[1;33m\u001b[0m\u001b[0m\n\u001b[0;32m      5\u001b[0m \u001b[0mcases_select_ppm_plot\u001b[0m\u001b[1;33m.\u001b[0m\u001b[0mplot\u001b[0m\u001b[1;33m(\u001b[0m\u001b[0mfigsize\u001b[0m\u001b[1;33m=\u001b[0m\u001b[1;33m(\u001b[0m\u001b[1;36m20\u001b[0m\u001b[1;33m,\u001b[0m\u001b[1;36m20\u001b[0m\u001b[1;33m)\u001b[0m\u001b[1;33m,\u001b[0m \u001b[0mcolormap\u001b[0m\u001b[1;33m=\u001b[0m\u001b[1;34m'Spectral'\u001b[0m\u001b[1;33m)\u001b[0m\u001b[1;33m\u001b[0m\u001b[1;33m\u001b[0m\u001b[0m\n",
      "\u001b[1;31mNameError\u001b[0m: name 'plt' is not defined"
     ]
    }
   ],
   "source": [
    "# per million\n",
    "log = True # logarithmic y-axis can be turned on(True) or off(False)\n",
    "plt.figure(figsize=(20,20))\n",
    "cases_select_ppm\n",
    "cases_select_ppm_plot.plot(figsize=(20,20), colormap='Spectral')\n",
    "plt.legend(loc='upper left',fontsize=15)\n",
    "plt.ylabel(\"Cases per million inhabitants\", fontsize=15)\n",
    "plt.xlabel(\"Date\", fontsize=15)\n",
    "plt.title(\"Number of Covid-19 Cases per million inhabitants\", fontsize=30)\n",
    "\n",
    "today = str(datetime.today().strftime('%y%m%d'))\n",
    "\n",
    "if log:\n",
    "    plt.yscale('log')\n",
    "    plot_name='%s_Total_Cases_ppm_log_%s.png'%(selection,today)\n",
    "else: \n",
    "    plot_name='%s_Total_Cases_ppm_%s.png'%(selection,today)\n",
    "plot_out = location + plot_name\n",
    "plt.savefig(plot_out)\n",
    "\n",
    "print('Plot(.png) and was exported as: \\n %s '%\n",
    "     (plot_out))"
   ]
  }
 ],
 "metadata": {
  "kernelspec": {
   "display_name": "Python 3",
   "language": "python",
   "name": "python3"
  },
  "language_info": {
   "codemirror_mode": {
    "name": "ipython",
    "version": 3
   },
   "file_extension": ".py",
   "mimetype": "text/x-python",
   "name": "python",
   "nbconvert_exporter": "python",
   "pygments_lexer": "ipython3",
   "version": "3.7.1"
  }
 },
 "nbformat": 4,
 "nbformat_minor": 2
}
